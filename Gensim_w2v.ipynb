{
  "nbformat": 4,
  "nbformat_minor": 0,
  "metadata": {
    "colab": {
      "name": "Gensim_w2v",
      "provenance": [],
      "authorship_tag": "ABX9TyNPY7Bjb80HvkNcsK7c44F3",
      "include_colab_link": true
    },
    "kernelspec": {
      "name": "python3",
      "display_name": "Python 3"
    }
  },
  "cells": [
    {
      "cell_type": "markdown",
      "metadata": {
        "id": "view-in-github",
        "colab_type": "text"
      },
      "source": [
        "<a href=\"https://colab.research.google.com/github/saadmoumad/NLP-on-Morocco-s-King-Speech/blob/master/Gensim_w2v.ipynb\" target=\"_parent\"><img src=\"https://colab.research.google.com/assets/colab-badge.svg\" alt=\"Open In Colab\"/></a>"
      ]
    },
    {
      "cell_type": "code",
      "metadata": {
        "id": "uELxwYktofkf",
        "colab_type": "code",
        "colab": {}
      },
      "source": [
        "import gensim\n",
        "import nltk\n",
        "import re\n",
        "import spacy"
      ],
      "execution_count": 0,
      "outputs": []
    },
    {
      "cell_type": "code",
      "metadata": {
        "id": "n1xaNU1bpmSQ",
        "colab_type": "code",
        "colab": {}
      },
      "source": [
        "import os"
      ],
      "execution_count": 0,
      "outputs": []
    },
    {
      "cell_type": "code",
      "metadata": {
        "id": "Z4t_nwIro3Yk",
        "colab_type": "code",
        "colab": {
          "base_uri": "https://localhost:8080/",
          "height": 136
        },
        "outputId": "afb82207-56af-4d25-c36f-6e299ef289e5"
      },
      "source": [
        "!git clone https://github.com/saadmoumad/NLP-on-Morocco-s-King-Speech"
      ],
      "execution_count": 2,
      "outputs": [
        {
          "output_type": "stream",
          "text": [
            "Cloning into 'NLP-on-Morocco-s-King-Speech'...\n",
            "remote: Enumerating objects: 224, done.\u001b[K\n",
            "remote: Counting objects: 100% (224/224), done.\u001b[K\n",
            "remote: Compressing objects: 100% (218/218), done.\u001b[K\n",
            "remote: Total 224 (delta 14), reused 211 (delta 6), pack-reused 0\u001b[K\n",
            "Receiving objects: 100% (224/224), 978.44 KiB | 1.08 MiB/s, done.\n",
            "Resolving deltas: 100% (14/14), done.\n"
          ],
          "name": "stdout"
        }
      ]
    },
    {
      "cell_type": "code",
      "metadata": {
        "id": "G02xVmsopE63",
        "colab_type": "code",
        "colab": {
          "base_uri": "https://localhost:8080/",
          "height": 581
        },
        "outputId": "beb7b719-89bf-491d-e7cc-375aa4ba76d8"
      },
      "source": [
        "#Downloading French model\n",
        "!python -m spacy download fr_core_news_sm"
      ],
      "execution_count": 4,
      "outputs": [
        {
          "output_type": "stream",
          "text": [
            "Collecting fr_core_news_sm==2.2.5\n",
            "\u001b[?25l  Downloading https://github.com/explosion/spacy-models/releases/download/fr_core_news_sm-2.2.5/fr_core_news_sm-2.2.5.tar.gz (14.7MB)\n",
            "\u001b[K     |████████████████████████████████| 14.7MB 1.3MB/s \n",
            "\u001b[?25hRequirement already satisfied: spacy>=2.2.2 in /usr/local/lib/python3.6/dist-packages (from fr_core_news_sm==2.2.5) (2.2.4)\n",
            "Requirement already satisfied: catalogue<1.1.0,>=0.0.7 in /usr/local/lib/python3.6/dist-packages (from spacy>=2.2.2->fr_core_news_sm==2.2.5) (1.0.0)\n",
            "Requirement already satisfied: setuptools in /usr/local/lib/python3.6/dist-packages (from spacy>=2.2.2->fr_core_news_sm==2.2.5) (47.1.1)\n",
            "Requirement already satisfied: tqdm<5.0.0,>=4.38.0 in /usr/local/lib/python3.6/dist-packages (from spacy>=2.2.2->fr_core_news_sm==2.2.5) (4.41.1)\n",
            "Requirement already satisfied: thinc==7.4.0 in /usr/local/lib/python3.6/dist-packages (from spacy>=2.2.2->fr_core_news_sm==2.2.5) (7.4.0)\n",
            "Requirement already satisfied: preshed<3.1.0,>=3.0.2 in /usr/local/lib/python3.6/dist-packages (from spacy>=2.2.2->fr_core_news_sm==2.2.5) (3.0.2)\n",
            "Requirement already satisfied: srsly<1.1.0,>=1.0.2 in /usr/local/lib/python3.6/dist-packages (from spacy>=2.2.2->fr_core_news_sm==2.2.5) (1.0.2)\n",
            "Requirement already satisfied: blis<0.5.0,>=0.4.0 in /usr/local/lib/python3.6/dist-packages (from spacy>=2.2.2->fr_core_news_sm==2.2.5) (0.4.1)\n",
            "Requirement already satisfied: numpy>=1.15.0 in /usr/local/lib/python3.6/dist-packages (from spacy>=2.2.2->fr_core_news_sm==2.2.5) (1.18.5)\n",
            "Requirement already satisfied: murmurhash<1.1.0,>=0.28.0 in /usr/local/lib/python3.6/dist-packages (from spacy>=2.2.2->fr_core_news_sm==2.2.5) (1.0.2)\n",
            "Requirement already satisfied: cymem<2.1.0,>=2.0.2 in /usr/local/lib/python3.6/dist-packages (from spacy>=2.2.2->fr_core_news_sm==2.2.5) (2.0.3)\n",
            "Requirement already satisfied: plac<1.2.0,>=0.9.6 in /usr/local/lib/python3.6/dist-packages (from spacy>=2.2.2->fr_core_news_sm==2.2.5) (1.1.3)\n",
            "Requirement already satisfied: requests<3.0.0,>=2.13.0 in /usr/local/lib/python3.6/dist-packages (from spacy>=2.2.2->fr_core_news_sm==2.2.5) (2.23.0)\n",
            "Requirement already satisfied: wasabi<1.1.0,>=0.4.0 in /usr/local/lib/python3.6/dist-packages (from spacy>=2.2.2->fr_core_news_sm==2.2.5) (0.6.0)\n",
            "Requirement already satisfied: importlib-metadata>=0.20; python_version < \"3.8\" in /usr/local/lib/python3.6/dist-packages (from catalogue<1.1.0,>=0.0.7->spacy>=2.2.2->fr_core_news_sm==2.2.5) (1.6.0)\n",
            "Requirement already satisfied: certifi>=2017.4.17 in /usr/local/lib/python3.6/dist-packages (from requests<3.0.0,>=2.13.0->spacy>=2.2.2->fr_core_news_sm==2.2.5) (2020.4.5.1)\n",
            "Requirement already satisfied: urllib3!=1.25.0,!=1.25.1,<1.26,>=1.21.1 in /usr/local/lib/python3.6/dist-packages (from requests<3.0.0,>=2.13.0->spacy>=2.2.2->fr_core_news_sm==2.2.5) (1.24.3)\n",
            "Requirement already satisfied: chardet<4,>=3.0.2 in /usr/local/lib/python3.6/dist-packages (from requests<3.0.0,>=2.13.0->spacy>=2.2.2->fr_core_news_sm==2.2.5) (3.0.4)\n",
            "Requirement already satisfied: idna<3,>=2.5 in /usr/local/lib/python3.6/dist-packages (from requests<3.0.0,>=2.13.0->spacy>=2.2.2->fr_core_news_sm==2.2.5) (2.9)\n",
            "Requirement already satisfied: zipp>=0.5 in /usr/local/lib/python3.6/dist-packages (from importlib-metadata>=0.20; python_version < \"3.8\"->catalogue<1.1.0,>=0.0.7->spacy>=2.2.2->fr_core_news_sm==2.2.5) (3.1.0)\n",
            "Building wheels for collected packages: fr-core-news-sm\n",
            "  Building wheel for fr-core-news-sm (setup.py) ... \u001b[?25l\u001b[?25hdone\n",
            "  Created wheel for fr-core-news-sm: filename=fr_core_news_sm-2.2.5-cp36-none-any.whl size=14727027 sha256=6f816d9e0edbc8bbc33f16b7fdab8aab8b37bd506d800dbf23a6a9384a68ded2\n",
            "  Stored in directory: /tmp/pip-ephem-wheel-cache-yvzyoog7/wheels/46/1b/e6/29b020e3f9420a24c3f463343afe5136aaaf955dbc9e46dfc5\n",
            "Successfully built fr-core-news-sm\n",
            "Installing collected packages: fr-core-news-sm\n",
            "Successfully installed fr-core-news-sm-2.2.5\n",
            "\u001b[38;5;2m✔ Download and installation successful\u001b[0m\n",
            "You can now load the model via spacy.load('fr_core_news_sm')\n"
          ],
          "name": "stdout"
        }
      ]
    },
    {
      "cell_type": "code",
      "metadata": {
        "id": "XUEek0XjpI-O",
        "colab_type": "code",
        "colab": {}
      },
      "source": [
        "nlp = spacy.load(\"/usr/local/lib/python3.6/dist-packages/fr_core_news_sm/fr_core_news_sm-2.2.5\")"
      ],
      "execution_count": 0,
      "outputs": []
    },
    {
      "cell_type": "code",
      "metadata": {
        "id": "gERLZv_VpZxk",
        "colab_type": "code",
        "colab": {}
      },
      "source": [
        "data_dir = 'NLP-on-Morocco-s-King-Speech/Disc_Text'\n",
        "files_names = os.listdir(data_dir)\n",
        "files_names.sort()"
      ],
      "execution_count": 0,
      "outputs": []
    },
    {
      "cell_type": "code",
      "metadata": {
        "id": "0-of0IIOpkkE",
        "colab_type": "code",
        "colab": {}
      },
      "source": [
        "stop_words = nlp.Defaults.stop_words\n"
      ],
      "execution_count": 0,
      "outputs": []
    },
    {
      "cell_type": "code",
      "metadata": {
        "id": "X-JPlGB5sMzW",
        "colab_type": "code",
        "colab": {}
      },
      "source": [
        "class SentencesGEN(object):\n",
        "\n",
        "  def __init__(self, files_names, data_dir):\n",
        "    self.files_names = files_names\n",
        "    self.data_dir = data_dir\n",
        "  \n",
        "  \n",
        "  def __iter__(self):\n",
        "    for file in self.files_names[1:]: #exclu .DS_Store file\n",
        "        text = open(os.path.join(self.data_dir, file), 'rb').read().decode(encoding='utf-8')\n",
        "        for line in self.__spacypre(text):\n",
        "          yield line #yield a single sentence as a list of words\n",
        "  \n",
        "  #Preprocessing \n",
        "  def __spacypre(self, text):\n",
        "    global stop_words\n",
        "    gen_sent = nlp(text).sents\n",
        "    clean = [re.sub(\"[^\\w']+\", ' ', row.string, flags=re.UNICODE).lower() for row in gen_sent]\n",
        "    sents_list = [[str(word) for word in nlp(sents) \n",
        "                   if str(word) not in stop_words and len(str(word))>2] \n",
        "                                  for sents in clean]\n",
        "    sents_list_f = [sent for sent in sents_list if len(sent)>2]\n",
        "    return sents_list_f"
      ],
      "execution_count": 0,
      "outputs": []
    },
    {
      "cell_type": "code",
      "metadata": {
        "id": "bOQljc2Rp7fz",
        "colab_type": "code",
        "colab": {}
      },
      "source": [
        "sentences = SentencesGEN(files_names, data_dir)"
      ],
      "execution_count": 0,
      "outputs": []
    },
    {
      "cell_type": "code",
      "metadata": {
        "id": "3LcmEjJcreAY",
        "colab_type": "code",
        "colab": {}
      },
      "source": [
        "model = gensim.models.Word2Vec(sentences, min_count=5, size=200)"
      ],
      "execution_count": 0,
      "outputs": []
    },
    {
      "cell_type": "code",
      "metadata": {
        "id": "l_Lyvs78uJ93",
        "colab_type": "code",
        "colab": {
          "base_uri": "https://localhost:8080/",
          "height": 71
        },
        "outputId": "f67be395-a6c8-43f2-d7bd-141f0d65be91"
      },
      "source": [
        "model.save('NLP-on-Morocco-s-King-Speech/Gensim_w2v_model')"
      ],
      "execution_count": 49,
      "outputs": [
        {
          "output_type": "stream",
          "text": [
            "/usr/local/lib/python3.6/dist-packages/smart_open/smart_open_lib.py:253: UserWarning: This function is deprecated, use smart_open.open instead. See the migration notes for details: https://github.com/RaRe-Technologies/smart_open/blob/master/README.rst#migrating-to-the-new-open-function\n",
            "  'See the migration notes for details: %s' % _MIGRATION_NOTES_URL\n"
          ],
          "name": "stderr"
        }
      ]
    },
    {
      "cell_type": "code",
      "metadata": {
        "id": "L1pkqRvP0Q8L",
        "colab_type": "code",
        "colab": {
          "base_uri": "https://localhost:8080/",
          "height": 768
        },
        "outputId": "f69d573e-076e-4378-8997-6ed78a61fa60"
      },
      "source": [
        "model['roi']"
      ],
      "execution_count": 47,
      "outputs": [
        {
          "output_type": "stream",
          "text": [
            "/usr/local/lib/python3.6/dist-packages/ipykernel_launcher.py:1: DeprecationWarning: Call to deprecated `__getitem__` (Method will be removed in 4.0.0, use self.wv.__getitem__() instead).\n",
            "  \"\"\"Entry point for launching an IPython kernel.\n"
          ],
          "name": "stderr"
        },
        {
          "output_type": "execute_result",
          "data": {
            "text/plain": [
              "array([ 0.58256936,  0.3999724 , -0.02864574,  0.14545195,  1.0818627 ,\n",
              "       -0.79433835, -0.63151926,  0.812194  , -0.27557653,  0.718762  ,\n",
              "       -0.632967  , -0.2821304 ,  0.29018965, -0.04160223, -0.02283422,\n",
              "       -0.5790829 ,  0.12735875, -0.6682375 , -0.5778347 ,  0.4151795 ,\n",
              "        0.71174306, -0.5399355 , -0.42749152,  0.1539532 ,  0.65885556,\n",
              "        1.0066391 ,  0.959928  ,  0.04974494, -0.7641411 , -1.1668329 ,\n",
              "       -0.80256915,  1.701563  ,  0.7816045 ,  1.1264069 , -0.36235037,\n",
              "        0.17975453, -0.47378528,  0.34615052,  1.0353227 ,  0.39890674,\n",
              "       -1.4955263 , -0.87698334, -0.3285217 ,  0.36925712, -1.4548079 ,\n",
              "       -0.34575188,  0.09829413, -0.89338154, -0.43167418, -1.0063106 ,\n",
              "       -0.9166078 ,  0.6509046 , -0.5828416 ,  0.4327893 , -0.18923363,\n",
              "        0.04560893,  0.11964516,  0.9657822 ,  0.4379363 , -0.04488412,\n",
              "        0.85457414, -0.6960011 , -1.3336405 , -0.34689975, -0.23068483,\n",
              "        0.47968367,  0.10498877, -0.2553043 , -0.1456046 , -0.62828094,\n",
              "        0.42320535, -1.1749183 ,  0.03709057,  0.35201913, -1.2247665 ,\n",
              "        1.1564822 , -1.7968485 ,  0.64438266, -0.4432173 ,  0.36547524,\n",
              "       -0.4284533 ,  0.28953505,  0.6581259 ,  1.1006253 ,  0.16767485,\n",
              "        0.92315173, -0.82752407, -0.08596014,  0.38046366, -0.6709253 ,\n",
              "        1.283869  , -1.016653  ,  0.629478  ,  0.9105985 ,  0.44500068,\n",
              "        0.04907634, -0.12606645, -0.1619867 , -0.6277336 , -1.0109345 ,\n",
              "       -0.76484907,  1.0554391 , -0.6779056 ,  0.14422698,  0.1016029 ,\n",
              "        0.698651  , -0.22629295, -0.42710626,  0.3889807 ,  1.5368692 ,\n",
              "        0.13903037,  0.5851243 ,  0.21903811,  0.25905842,  0.70816535,\n",
              "       -1.3669593 ,  0.32698277, -0.8859341 , -0.12304471,  0.0881483 ,\n",
              "        0.18319541, -0.6687409 , -0.24690911, -0.7530039 , -0.99973863,\n",
              "       -0.6259121 , -0.6771464 , -0.5445306 , -0.43930465,  0.64674383,\n",
              "       -0.43502697,  0.74036574, -0.07091744,  0.5272535 , -0.636059  ,\n",
              "       -0.36660653,  0.7453426 ,  0.21560001, -0.44388595,  0.31449983,\n",
              "       -1.049121  , -0.6159777 ,  0.60864294, -0.50000525,  1.0822568 ,\n",
              "        0.06624658,  0.15118739,  0.28782532, -1.0406468 ,  0.18505481,\n",
              "        1.2545227 ,  0.35694936,  0.44888556, -0.90595573,  0.80274224,\n",
              "        0.00272422, -0.54614854, -0.815192  , -0.37033597, -0.696199  ,\n",
              "        0.97419035,  1.2696192 ,  0.41395518, -0.17415632,  0.309678  ,\n",
              "       -0.16330779,  0.38426134, -0.18242647, -0.11195675,  0.25325373,\n",
              "       -0.13153827, -0.8220255 ,  0.10503539,  0.12759659,  1.0615366 ,\n",
              "       -0.608535  , -0.09455755, -0.01713524, -0.26100186, -0.38050184,\n",
              "        0.12022051, -0.07761593,  0.05292365, -0.1740054 , -0.12948602,\n",
              "       -1.1833136 ,  0.13447654,  0.37819615, -0.57221586,  0.3302954 ,\n",
              "        0.686562  , -0.93409204, -0.19056477,  0.6442642 , -0.74647725,\n",
              "       -1.1260439 , -1.6049365 ,  0.3574958 , -0.8759846 ,  0.5789496 ],\n",
              "      dtype=float32)"
            ]
          },
          "metadata": {
            "tags": []
          },
          "execution_count": 47
        }
      ]
    },
    {
      "cell_type": "code",
      "metadata": {
        "id": "fvr7XmwB0rxP",
        "colab_type": "code",
        "colab": {
          "base_uri": "https://localhost:8080/",
          "height": 122
        },
        "outputId": "74429fb0-ce86-4921-c966-1a18bc4fd4ea"
      },
      "source": [
        "model.similarity('sahara', 'maroc') "
      ],
      "execution_count": 53,
      "outputs": [
        {
          "output_type": "stream",
          "text": [
            "/usr/local/lib/python3.6/dist-packages/ipykernel_launcher.py:1: DeprecationWarning: Call to deprecated `similarity` (Method will be removed in 4.0.0, use self.wv.similarity() instead).\n",
            "  \"\"\"Entry point for launching an IPython kernel.\n",
            "/usr/local/lib/python3.6/dist-packages/gensim/matutils.py:737: FutureWarning: Conversion of the second argument of issubdtype from `int` to `np.signedinteger` is deprecated. In future, it will be treated as `np.int64 == np.dtype(int).type`.\n",
            "  if np.issubdtype(vec.dtype, np.int):\n"
          ],
          "name": "stderr"
        },
        {
          "output_type": "execute_result",
          "data": {
            "text/plain": [
              "0.98139465"
            ]
          },
          "metadata": {
            "tags": []
          },
          "execution_count": 53
        }
      ]
    },
    {
      "cell_type": "code",
      "metadata": {
        "id": "LnVi0B0H1MZ3",
        "colab_type": "code",
        "colab": {
          "base_uri": "https://localhost:8080/",
          "height": 275
        },
        "outputId": "e34a9652-bcb7-4b06-ca2b-77988bd9cef6"
      },
      "source": [
        "model.most_similar('marche')"
      ],
      "execution_count": 56,
      "outputs": [
        {
          "output_type": "stream",
          "text": [
            "/usr/local/lib/python3.6/dist-packages/ipykernel_launcher.py:1: DeprecationWarning: Call to deprecated `most_similar` (Method will be removed in 4.0.0, use self.wv.most_similar() instead).\n",
            "  \"\"\"Entry point for launching an IPython kernel.\n",
            "/usr/local/lib/python3.6/dist-packages/gensim/matutils.py:737: FutureWarning: Conversion of the second argument of issubdtype from `int` to `np.signedinteger` is deprecated. In future, it will be treated as `np.int64 == np.dtype(int).type`.\n",
            "  if np.issubdtype(vec.dtype, np.int):\n"
          ],
          "name": "stderr"
        },
        {
          "output_type": "execute_result",
          "data": {
            "text/plain": [
              "[('verte', 0.9978785514831543),\n",
              " ('glorieuse', 0.9977438449859619),\n",
              " ('trône', 0.997291088104248),\n",
              " ('artisan', 0.9955791234970093),\n",
              " ('regretté', 0.9954876899719238),\n",
              " ('libérateur', 0.9935110807418823),\n",
              " ('incarnait', 0.9927810430526733),\n",
              " ('trouveras', 0.9918903112411499),\n",
              " ('concepteur', 0.9913849830627441),\n",
              " ('août', 0.9913126826286316)]"
            ]
          },
          "metadata": {
            "tags": []
          },
          "execution_count": 56
        }
      ]
    },
    {
      "cell_type": "code",
      "metadata": {
        "id": "-HtORJLi1rKo",
        "colab_type": "code",
        "colab": {}
      },
      "source": [
        ""
      ],
      "execution_count": 0,
      "outputs": []
    }
  ]
}