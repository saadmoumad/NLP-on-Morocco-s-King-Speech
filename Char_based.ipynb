{
  "nbformat": 4,
  "nbformat_minor": 0,
  "metadata": {
    "colab": {
      "name": "Char_based.ipynb",
      "provenance": [],
      "authorship_tag": "ABX9TyP+tQBsQjBa3hxuWSictbJM",
      "include_colab_link": true
    },
    "kernelspec": {
      "name": "python3",
      "display_name": "Python 3"
    },
    "accelerator": "GPU"
  },
  "cells": [
    {
      "cell_type": "markdown",
      "metadata": {
        "id": "view-in-github",
        "colab_type": "text"
      },
      "source": [
        "<a href=\"https://colab.research.google.com/github/saadmoumad/NLP-on-Morocco-s-King-Speech/blob/master/Char_based.ipynb\" target=\"_parent\"><img src=\"https://colab.research.google.com/assets/colab-badge.svg\" alt=\"Open In Colab\"/></a>"
      ]
    },
    {
      "cell_type": "code",
      "metadata": {
        "id": "bflYcINVgmBd",
        "colab_type": "code",
        "outputId": "5a2f1c2f-c129-4414-a1ec-764d7232be74",
        "colab": {
          "base_uri": "https://localhost:8080/",
          "height": 122
        }
      },
      "source": [
        "'''from google.colab import drive\n",
        "drive.mount('/content/gdrive')'''"
      ],
      "execution_count": 0,
      "outputs": [
        {
          "output_type": "stream",
          "text": [
            "Go to this URL in a browser: https://accounts.google.com/o/oauth2/auth?client_id=947318989803-6bn6qk8qdgf4n4g3pfee6491hc0brc4i.apps.googleusercontent.com&redirect_uri=urn%3aietf%3awg%3aoauth%3a2.0%3aoob&response_type=code&scope=email%20https%3a%2f%2fwww.googleapis.com%2fauth%2fdocs.test%20https%3a%2f%2fwww.googleapis.com%2fauth%2fdrive%20https%3a%2f%2fwww.googleapis.com%2fauth%2fdrive.photos.readonly%20https%3a%2f%2fwww.googleapis.com%2fauth%2fpeopleapi.readonly\n",
            "\n",
            "Enter your authorization code:\n",
            "··········\n",
            "Mounted at /content/gdrive\n"
          ],
          "name": "stdout"
        }
      ]
    },
    {
      "cell_type": "code",
      "metadata": {
        "id": "q1RZd91BLCDs",
        "colab_type": "code",
        "colab": {
          "base_uri": "https://localhost:8080/",
          "height": 34
        },
        "outputId": "6708c02b-09d7-40fa-9304-eb08a498f9b7"
      },
      "source": [
        "!git clone https://github.com/saadmoumad/NLP-on-Morocco-s-King-Speech"
      ],
      "execution_count": 3,
      "outputs": [
        {
          "output_type": "stream",
          "text": [
            "fatal: destination path 'NLP-on-Morocco-s-King-Speech' already exists and is not an empty directory.\n"
          ],
          "name": "stdout"
        }
      ]
    },
    {
      "cell_type": "code",
      "metadata": {
        "id": "jtJkCqOrLb5F",
        "colab_type": "code",
        "colab": {}
      },
      "source": [
        "#Scraping Discours from maroc.ma \n",
        "!python3 NLP-on-Morocco-s-King-Speech/DiscourScraping.py\n",
        "#Already pushed with git-repo"
      ],
      "execution_count": 0,
      "outputs": []
    },
    {
      "cell_type": "code",
      "metadata": {
        "id": "1SAHINPUi1tH",
        "colab_type": "code",
        "colab": {}
      },
      "source": [
        "import tensorflow as tf\n",
        "import numpy as np\n",
        "import os\n",
        "import time"
      ],
      "execution_count": 0,
      "outputs": []
    },
    {
      "cell_type": "code",
      "metadata": {
        "id": "wHZtwyDsMpT5",
        "colab_type": "code",
        "colab": {}
      },
      "source": [
        "data_dir = 'NLP-on-Morocco-s-King-Speech/Disc_Text'\n",
        "files_name = os.listdir(data_dir)\n",
        "files_name.sort()\n",
        "text =''"
      ],
      "execution_count": 0,
      "outputs": []
    },
    {
      "cell_type": "code",
      "metadata": {
        "id": "vO0aNcgLNmG5",
        "colab_type": "code",
        "colab": {}
      },
      "source": [
        "for file_name in files_name[1:]: #exclu .DS_Store file\n",
        "  path = os.path.join(data_dir, file_name)\n",
        "  text += open(path, 'rb').read().decode(encoding='utf-8')"
      ],
      "execution_count": 0,
      "outputs": []
    },
    {
      "cell_type": "code",
      "metadata": {
        "id": "lEHmhEkpNmKb",
        "colab_type": "code",
        "outputId": "b765903d-c78b-458e-a214-7e2dad42771c",
        "colab": {
          "base_uri": "https://localhost:8080/",
          "height": 34
        }
      },
      "source": [
        "len(text)"
      ],
      "execution_count": 0,
      "outputs": [
        {
          "output_type": "execute_result",
          "data": {
            "text/plain": [
              "2434887"
            ]
          },
          "metadata": {
            "tags": []
          },
          "execution_count": 5
        }
      ]
    },
    {
      "cell_type": "code",
      "metadata": {
        "id": "ppKJFUwVNmOR",
        "colab_type": "code",
        "outputId": "8ec02e4c-7cc5-43e5-8d16-9223ef85acd6",
        "colab": {
          "base_uri": "https://localhost:8080/",
          "height": 51
        }
      },
      "source": [
        "# The unique characters in all Discours\n",
        "vocab = sorted(set(text))"
      ],
      "execution_count": 0,
      "outputs": [
        {
          "output_type": "stream",
          "text": [
            "154 unique characters\n",
            "['\\n', '\\x1c', ' ', '!', '\"', '%', '&', \"'\", '(', ')']\n"
          ],
          "name": "stdout"
        }
      ]
    },
    {
      "cell_type": "code",
      "metadata": {
        "id": "StIu-hZyPZ-U",
        "colab_type": "code",
        "colab": {}
      },
      "source": [
        "# Creating a mapping from unique characters to indices\n",
        "char2idx = {u:i for i, u in enumerate(vocab)}\n",
        "idx2char = np.array(vocab)\n",
        "text_as_int = np.array([char2idx[c] for c in text])"
      ],
      "execution_count": 0,
      "outputs": []
    },
    {
      "cell_type": "code",
      "metadata": {
        "id": "SyW_EcC0P2Ih",
        "colab_type": "code",
        "colab": {}
      },
      "source": [
        "# The maximum length sentence we want for a single input in characters\n",
        "seq_length = 100\n",
        "examples_per_epoch = len(text)//(seq_length+1)"
      ],
      "execution_count": 0,
      "outputs": []
    },
    {
      "cell_type": "code",
      "metadata": {
        "id": "cKW8qePKP2Mn",
        "colab_type": "code",
        "colab": {}
      },
      "source": [
        "char_dataset = tf.data.Dataset.from_tensor_slices(text_as_int)"
      ],
      "execution_count": 0,
      "outputs": []
    },
    {
      "cell_type": "code",
      "metadata": {
        "id": "g3pxXLEWRKEI",
        "colab_type": "code",
        "outputId": "bb22adfc-14c6-45b6-d5b4-0ab1567f0e16",
        "colab": {
          "base_uri": "https://localhost:8080/",
          "height": 102
        }
      },
      "source": [
        "for i in char_dataset.take(5):\n",
        "  print(i)"
      ],
      "execution_count": 0,
      "outputs": [
        {
          "output_type": "stream",
          "text": [
            "tf.Tensor(83, shape=(), dtype=int64)\n",
            "tf.Tensor(46, shape=(), dtype=int64)\n",
            "tf.Tensor(56, shape=(), dtype=int64)\n",
            "tf.Tensor(2, shape=(), dtype=int64)\n",
            "tf.Tensor(40, shape=(), dtype=int64)\n"
          ],
          "name": "stdout"
        }
      ]
    },
    {
      "cell_type": "code",
      "metadata": {
        "id": "sY3oeLyoRROQ",
        "colab_type": "code",
        "colab": {}
      },
      "source": [
        "sequences = char_dataset.batch(seq_length+1, drop_remainder=True)"
      ],
      "execution_count": 0,
      "outputs": []
    },
    {
      "cell_type": "code",
      "metadata": {
        "id": "iDe6pglTRfja",
        "colab_type": "code",
        "colab": {}
      },
      "source": [
        "def split_input_target(chunk):\n",
        "    input_text = chunk[:-1]\n",
        "    target_text = chunk[1:]\n",
        "    return input_text, target_text\n",
        "\n",
        "dataset = sequences.map(split_input_target)"
      ],
      "execution_count": 0,
      "outputs": []
    },
    {
      "cell_type": "code",
      "metadata": {
        "id": "GLVv7LkwRlu3",
        "colab_type": "code",
        "outputId": "933aa8f4-fbc0-43f3-ae09-c52d0d33eedf",
        "colab": {
          "base_uri": "https://localhost:8080/",
          "height": 595
        }
      },
      "source": [
        "for i in dataset.take(2):\n",
        "  print(i)"
      ],
      "execution_count": 0,
      "outputs": [
        {
          "output_type": "stream",
          "text": [
            "(<tf.Tensor: shape=(100,), dtype=int64, numpy=\n",
            "array([ 83,  46,  56,   2,  40,  56,  65,  60,  74,  75, 101,   2,  67,\n",
            "        60,   2,  45,  70,  64,   2,  40,  70,  63,  56,  68,  68,  60,\n",
            "        59,   2,  49,  36,  11,   2,  72,  76,  60,   2,  31,  64,  60,\n",
            "        76,   2,  39, 149,  56,  74,  74,  64,  74,  75,  60,  11,   2,\n",
            "        56,   2,  56,  59,  73,  60,  74,  74, 101,   2,  68,  60,  73,\n",
            "        58,  73,  60,  59,  64,  83,   2,  15,  21,   2,  69,  70,  77,\n",
            "        60,  68,  57,  73,  60,   2,  76,  69,   2,  59,  64,  74,  58,\n",
            "        70,  76,  73,  74,   2,  97,   2,  67,  56])>, <tf.Tensor: shape=(100,), dtype=int64, numpy=\n",
            "array([ 46,  56,   2,  40,  56,  65,  60,  74,  75, 101,   2,  67,  60,\n",
            "         2,  45,  70,  64,   2,  40,  70,  63,  56,  68,  68,  60,  59,\n",
            "         2,  49,  36,  11,   2,  72,  76,  60,   2,  31,  64,  60,  76,\n",
            "         2,  39, 149,  56,  74,  74,  64,  74,  75,  60,  11,   2,  56,\n",
            "         2,  56,  59,  73,  60,  74,  74, 101,   2,  68,  60,  73,  58,\n",
            "        73,  60,  59,  64,  83,   2,  15,  21,   2,  69,  70,  77,  60,\n",
            "        68,  57,  73,  60,   2,  76,  69,   2,  59,  64,  74,  58,  70,\n",
            "        76,  73,  74,   2,  97,   2,  67,  56,   2])>)\n",
            "(<tf.Tensor: shape=(100,), dtype=int64, numpy=\n",
            "array([ 41,  56,  75,  64,  70,  69,   2,  97,   2,  67, 149,  70,  58,\n",
            "        58,  56,  74,  64,  70,  69,   2,  59,  76,   2,  19,  19,  12,\n",
            "       100,  68,  60,   2,  56,  69,  69,  64,  77,  60,  73,  74,  56,\n",
            "        64,  73,  60,   2,  59,  60,   2,  67,  56,   2,  40,  56,  73,\n",
            "        58,  63,  60,   2,  77,  60,  73,  75,  60,  13,   0,  49,  70,\n",
            "        64,  58,  64,   2,  67,  60,   2,  75,  60,  79,  75,  60,   2,\n",
            "        64,  69,  75, 101,  62,  73,  56,  67,   2,  59,  76,   2,  31,\n",
            "        64,  74,  58,  70,  76,  73,  74,   2,  45])>, <tf.Tensor: shape=(100,), dtype=int64, numpy=\n",
            "array([ 56,  75,  64,  70,  69,   2,  97,   2,  67, 149,  70,  58,  58,\n",
            "        56,  74,  64,  70,  69,   2,  59,  76,   2,  19,  19,  12, 100,\n",
            "        68,  60,   2,  56,  69,  69,  64,  77,  60,  73,  74,  56,  64,\n",
            "        73,  60,   2,  59,  60,   2,  67,  56,   2,  40,  56,  73,  58,\n",
            "        63,  60,   2,  77,  60,  73,  75,  60,  13,   0,  49,  70,  64,\n",
            "        58,  64,   2,  67,  60,   2,  75,  60,  79,  75,  60,   2,  64,\n",
            "        69,  75, 101,  62,  73,  56,  67,   2,  59,  76,   2,  31,  64,\n",
            "        74,  58,  70,  76,  73,  74,   2,  45,  70])>)\n"
          ],
          "name": "stdout"
        }
      ]
    },
    {
      "cell_type": "code",
      "metadata": {
        "id": "GIXHih7PRsu4",
        "colab_type": "code",
        "colab": {}
      },
      "source": [
        "BATCH_SIZE = 64\n",
        "BUFFER_SIZE = 10000\n",
        "\n",
        "dataset = dataset.shuffle(BUFFER_SIZE).batch(BATCH_SIZE, drop_remainder=True)"
      ],
      "execution_count": 0,
      "outputs": []
    },
    {
      "cell_type": "code",
      "metadata": {
        "id": "UVyIgvwzTaGM",
        "colab_type": "code",
        "colab": {}
      },
      "source": [
        "# Length of the vocabulary in chars\n",
        "vocab_size = len(vocab)\n",
        "\n",
        "# The embedding dimension\n",
        "embedding_dim = 256\n",
        "\n",
        "# Number of RNN units\n",
        "rnn_units = 1024"
      ],
      "execution_count": 0,
      "outputs": []
    },
    {
      "cell_type": "code",
      "metadata": {
        "id": "q7tl5IvNTpl8",
        "colab_type": "code",
        "colab": {}
      },
      "source": [
        "def build_model(vocab_size, embedding_dim, rnn_units, batch_size):\n",
        "  model = tf.keras.Sequential([\n",
        "    tf.keras.layers.Embedding(vocab_size, embedding_dim,\n",
        "                              batch_input_shape=[batch_size, None]),\n",
        "    tf.keras.layers.GRU(rnn_units,\n",
        "                        return_sequences=True,\n",
        "                        stateful=True,\n",
        "                        recurrent_initializer='glorot_uniform'),\n",
        "    tf.keras.layers.Dense(vocab_size)\n",
        "  ])\n",
        "  return model"
      ],
      "execution_count": 0,
      "outputs": []
    },
    {
      "cell_type": "code",
      "metadata": {
        "id": "4Ye4GcgWT6eZ",
        "colab_type": "code",
        "colab": {}
      },
      "source": [
        "model = build_model(\n",
        "  vocab_size = len(vocab),\n",
        "  embedding_dim=embedding_dim,\n",
        "  rnn_units=rnn_units,\n",
        "  batch_size=BATCH_SIZE)"
      ],
      "execution_count": 0,
      "outputs": []
    },
    {
      "cell_type": "code",
      "metadata": {
        "id": "dFQlcUY_T-2J",
        "colab_type": "code",
        "outputId": "ddf62a95-9a34-4b48-c91b-60798e40ea8a",
        "colab": {
          "base_uri": "https://localhost:8080/",
          "height": 255
        }
      },
      "source": [
        "model.summary()"
      ],
      "execution_count": 0,
      "outputs": [
        {
          "output_type": "stream",
          "text": [
            "Model: \"sequential\"\n",
            "_________________________________________________________________\n",
            "Layer (type)                 Output Shape              Param #   \n",
            "=================================================================\n",
            "embedding (Embedding)        (64, None, 256)           39424     \n",
            "_________________________________________________________________\n",
            "gru (GRU)                    (64, None, 1024)          3938304   \n",
            "_________________________________________________________________\n",
            "dense (Dense)                (64, None, 154)           157850    \n",
            "=================================================================\n",
            "Total params: 4,135,578\n",
            "Trainable params: 4,135,578\n",
            "Non-trainable params: 0\n",
            "_________________________________________________________________\n"
          ],
          "name": "stdout"
        }
      ]
    },
    {
      "cell_type": "code",
      "metadata": {
        "id": "6W9HB6YWaFnD",
        "colab_type": "code",
        "colab": {}
      },
      "source": [
        "def loss(labels, logits):\n",
        "  return tf.keras.losses.sparse_categorical_crossentropy(labels, logits, from_logits=True)"
      ],
      "execution_count": 0,
      "outputs": []
    },
    {
      "cell_type": "code",
      "metadata": {
        "id": "nRfiHbj0avVQ",
        "colab_type": "code",
        "colab": {}
      },
      "source": [
        "model.compile(optimizer='adam', loss=loss)"
      ],
      "execution_count": 0,
      "outputs": []
    },
    {
      "cell_type": "code",
      "metadata": {
        "id": "2c1efyiPbBuU",
        "colab_type": "code",
        "colab": {}
      },
      "source": [
        "#Checkpoints for model training\n",
        "checkpoint_dir = './training_checkpoints'\n",
        "checkpoint_prefix = os.path.join(checkpoint_dir, \"ckpt_{epoch}\")\n",
        "\n",
        "checkpoint_callback=tf.keras.callbacks.ModelCheckpoint(\n",
        "    filepath=checkpoint_prefix,\n",
        "    save_weights_only=True)"
      ],
      "execution_count": 0,
      "outputs": []
    },
    {
      "cell_type": "code",
      "metadata": {
        "id": "t9gChNsmbIEj",
        "colab_type": "code",
        "colab": {}
      },
      "source": [
        "EPOCHS=10"
      ],
      "execution_count": 0,
      "outputs": []
    },
    {
      "cell_type": "code",
      "metadata": {
        "id": "GlSS1Y5fbZ6B",
        "colab_type": "code",
        "outputId": "a07e2c48-e008-449c-d5f5-248449284322",
        "colab": {
          "base_uri": "https://localhost:8080/",
          "height": 357
        }
      },
      "source": [
        "history = model.fit(dataset, epochs=EPOCHS, callbacks=[checkpoint_callback])"
      ],
      "execution_count": 0,
      "outputs": [
        {
          "output_type": "stream",
          "text": [
            "Epoch 1/10\n",
            "376/376 [==============================] - 53s 140ms/step - loss: 2.1334\n",
            "Epoch 2/10\n",
            "376/376 [==============================] - 53s 140ms/step - loss: 1.2288\n",
            "Epoch 3/10\n",
            "376/376 [==============================] - 53s 140ms/step - loss: 1.0373\n",
            "Epoch 4/10\n",
            "376/376 [==============================] - 53s 140ms/step - loss: 0.9610\n",
            "Epoch 5/10\n",
            "376/376 [==============================] - 53s 140ms/step - loss: 0.9123\n",
            "Epoch 6/10\n",
            "376/376 [==============================] - 52s 140ms/step - loss: 0.8765\n",
            "Epoch 7/10\n",
            "376/376 [==============================] - 53s 140ms/step - loss: 0.8469\n",
            "Epoch 8/10\n",
            "376/376 [==============================] - 53s 140ms/step - loss: 0.8223\n",
            "Epoch 9/10\n",
            "376/376 [==============================] - 53s 140ms/step - loss: 0.8005\n",
            "Epoch 10/10\n",
            "376/376 [==============================] - 53s 141ms/step - loss: 0.7805\n"
          ],
          "name": "stdout"
        }
      ]
    },
    {
      "cell_type": "code",
      "metadata": {
        "id": "b4nF3fubbe0X",
        "colab_type": "code",
        "colab": {}
      },
      "source": [
        "#Rebuild with diff batch size and restore the weights from the latest checkpoint.\n",
        "model = build_model(vocab_size, embedding_dim, rnn_units, batch_size=1)\n",
        "model.load_weights(tf.train.latest_checkpoint(checkpoint_dir))\n",
        "model.build(tf.TensorShape([1, None]))"
      ],
      "execution_count": 0,
      "outputs": []
    },
    {
      "cell_type": "code",
      "metadata": {
        "id": "uUqBnNz2ct9l",
        "colab_type": "code",
        "colab": {}
      },
      "source": [
        "def generate_text(model, start_string):\n",
        "  num_generate = 1000\n",
        "  input_eval = [char2idx[s] for s in start_string]\n",
        "  input_eval = tf.expand_dims(input_eval, 0)\n",
        "  text_generated = []\n",
        "\n",
        "  temperature = 1.0\n",
        "\n",
        "  model.reset_states()\n",
        "  for i in range(num_generate):\n",
        "      predictions = model(input_eval)\n",
        "      # remove the batch dimension\n",
        "      predictions = tf.squeeze(predictions, 0)\n",
        "\n",
        "      # using a categorical distribution to predict the character returned by the model\n",
        "      predictions = predictions / temperature\n",
        "      predicted_id = tf.random.categorical(predictions, num_samples=1)[-1,0].numpy()\n",
        "\n",
        "      input_eval = tf.expand_dims([predicted_id], 0)\n",
        "\n",
        "      text_generated.append(idx2char[predicted_id])\n",
        "\n",
        "  return (start_string + ''.join(text_generated))"
      ],
      "execution_count": 0,
      "outputs": []
    },
    {
      "cell_type": "code",
      "metadata": {
        "id": "w4VciGrBdO9G",
        "colab_type": "code",
        "outputId": "b569bb8e-c4d8-46c1-e1ff-7646e2c6b815",
        "colab": {
          "base_uri": "https://localhost:8080/",
          "height": 54
        }
      },
      "source": [
        "print(generate_text(model, start_string=u\"SM le Roi \"))"
      ],
      "execution_count": 0,
      "outputs": [
        {
          "output_type": "stream",
          "text": [
            "SM le Roi chroce de fierté, des institutions constitutionnelles. Nul doute, nous incite à agirment de l'attachement à l'aune décision procéduration de la sécurité alimentaire et généraliser l'action sous-l'état du Kowett, pour qu'ils assument. Cette implimantalisation des nobles objectifs onusiennes, la cristante disposent déployée capitale et accrue, nous attendons des générations, à combattre et s notre gestion tendant à se s et aux waroc aux conditions de soumettrement, l'expertise pent aux valeurs d'une réforme efficace dans la perspective des valeurs faveurs axé, de stimuler les pays et les principes et les solutions efficaces puisque nous pouvons économique et social. Nous nous rencontons à des institutions, et particulièrement, et de mettre en Âœuvre poser, à travers le nom de Nos provinces du Sud du logement, il trouverassieurs, à toute Ma connaissance, de soumettre à cette occasion, que nous assurons, un pôle de développement, tant sur le plandiai des cens qui lui confèrent la pertinenc\n"
          ],
          "name": "stdout"
        }
      ]
    }
  ]
}