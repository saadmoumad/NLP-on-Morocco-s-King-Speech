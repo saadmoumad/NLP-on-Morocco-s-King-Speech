{
  "nbformat": 4,
  "nbformat_minor": 0,
  "metadata": {
    "colab": {
      "name": "Untitled0.ipynb",
      "provenance": [],
      "collapsed_sections": [],
      "machine_shape": "hm",
      "authorship_tag": "ABX9TyNsHaRjHNRidEJ/yt2L0yct",
      "include_colab_link": true
    },
    "kernelspec": {
      "name": "python3",
      "display_name": "Python 3"
    },
    "accelerator": "GPU"
  },
  "cells": [
    {
      "cell_type": "markdown",
      "metadata": {
        "id": "view-in-github",
        "colab_type": "text"
      },
      "source": [
        "<a href=\"https://colab.research.google.com/github/saadmoumad/NLP-on-Morocco-s-King-Speech/blob/master/GPT-2_fune_tuning.ipynb\" target=\"_parent\"><img src=\"https://colab.research.google.com/assets/colab-badge.svg\" alt=\"Open In Colab\"/></a>"
      ]
    },
    {
      "cell_type": "code",
      "metadata": {
        "id": "j5iFAmA8G4dt",
        "colab_type": "code",
        "colab": {
          "base_uri": "https://localhost:8080/",
          "height": 34
        },
        "outputId": "34bd9c9c-3fa7-4945-b00c-755a157d2562"
      },
      "source": [
        "!pip install -q gpt-2-simple"
      ],
      "execution_count": 1,
      "outputs": [
        {
          "output_type": "stream",
          "text": [
            "  Building wheel for gpt-2-simple (setup.py) ... \u001b[?25l\u001b[?25hdone\n"
          ],
          "name": "stdout"
        }
      ]
    },
    {
      "cell_type": "code",
      "metadata": {
        "id": "OtIo5QpZHIwe",
        "colab_type": "code",
        "outputId": "d11cf4b5-0eae-476b-f8c8-39e0b487c1e6",
        "colab": {
          "base_uri": "https://localhost:8080/",
          "height": 136
        }
      },
      "source": [
        "!git clone https://github.com/saadmoumad/NLP-on-Morocco-s-King-Speech"
      ],
      "execution_count": 2,
      "outputs": [
        {
          "output_type": "stream",
          "text": [
            "Cloning into 'NLP-on-Morocco-s-King-Speech'...\n",
            "remote: Enumerating objects: 235, done.\u001b[K\n",
            "remote: Counting objects: 100% (235/235), done.\u001b[K\n",
            "remote: Compressing objects: 100% (227/227), done.\u001b[K\n",
            "remote: Total 235 (delta 19), reused 217 (delta 8), pack-reused 0\u001b[K\n",
            "Receiving objects: 100% (235/235), 9.45 MiB | 23.26 MiB/s, done.\n",
            "Resolving deltas: 100% (19/19), done.\n"
          ],
          "name": "stdout"
        }
      ]
    },
    {
      "cell_type": "code",
      "metadata": {
        "id": "GlMjBMYZH1rZ",
        "colab_type": "code",
        "colab": {
          "base_uri": "https://localhost:8080/",
          "height": 34
        },
        "outputId": "d62b32f2-cb8f-4f1d-bfe0-9e7923b82004"
      },
      "source": [
        "#make sure that we using tf v1.x because gpt-2 is initially implemented with it\n",
        "%tensorflow_version 1.x"
      ],
      "execution_count": 3,
      "outputs": [
        {
          "output_type": "stream",
          "text": [
            "TensorFlow 1.x selected.\n"
          ],
          "name": "stdout"
        }
      ]
    },
    {
      "cell_type": "code",
      "metadata": {
        "id": "e3jIDIFdk7gI",
        "colab_type": "code",
        "colab": {
          "base_uri": "https://localhost:8080/",
          "height": 153
        },
        "outputId": "9edd7c54-c063-436f-9af2-0229d0085aa6"
      },
      "source": [
        "import gpt_2_simple as gpt2\n",
        "from google.colab import files"
      ],
      "execution_count": 4,
      "outputs": [
        {
          "output_type": "stream",
          "text": [
            "WARNING:tensorflow:\n",
            "The TensorFlow contrib module will not be included in TensorFlow 2.0.\n",
            "For more information, please see:\n",
            "  * https://github.com/tensorflow/community/blob/master/rfcs/20180907-contrib-sunset.md\n",
            "  * https://github.com/tensorflow/addons\n",
            "  * https://github.com/tensorflow/io (for I/O related ops)\n",
            "If you depend on functionality not listed there, please file an issue.\n",
            "\n"
          ],
          "name": "stdout"
        }
      ]
    },
    {
      "cell_type": "code",
      "metadata": {
        "id": "LpbmlUSNmbkI",
        "colab_type": "code",
        "colab": {}
      },
      "source": [
        "import os"
      ],
      "execution_count": 0,
      "outputs": []
    },
    {
      "cell_type": "code",
      "metadata": {
        "id": "jZuzxL0TlE5O",
        "colab_type": "code",
        "colab": {
          "base_uri": "https://localhost:8080/",
          "height": 136
        },
        "outputId": "d6e119ae-2b0e-42f8-b924-9734d15325b3"
      },
      "source": [
        "#Downloading the \"124M\" gpt-2 model which actually 500MB on disk\n",
        "\n",
        "gpt2.download_gpt2(model_name=\"124M\")"
      ],
      "execution_count": 6,
      "outputs": [
        {
          "output_type": "stream",
          "text": [
            "Fetching checkpoint: 1.05Mit [00:00, 426Mit/s]                                                      \n",
            "Fetching encoder.json: 1.05Mit [00:00, 98.0Mit/s]                                                   \n",
            "Fetching hparams.json: 1.05Mit [00:00, 778Mit/s]                                                    \n",
            "Fetching model.ckpt.data-00000-of-00001: 498Mit [00:03, 131Mit/s]                                   \n",
            "Fetching model.ckpt.index: 1.05Mit [00:00, 409Mit/s]                                                \n",
            "Fetching model.ckpt.meta: 1.05Mit [00:00, 173Mit/s]                                                 \n",
            "Fetching vocab.bpe: 1.05Mit [00:00, 135Mit/s]                                                       \n"
          ],
          "name": "stderr"
        }
      ]
    },
    {
      "cell_type": "code",
      "metadata": {
        "id": "sHcEtjGQlx-u",
        "colab_type": "code",
        "colab": {}
      },
      "source": [
        "data_dir = 'NLP-on-Morocco-s-King-Speech/Disc_Text'\n",
        "files_name = os.listdir(data_dir)\n",
        "files_name.sort()\n",
        "files_name = files_name[1:]"
      ],
      "execution_count": 0,
      "outputs": []
    },
    {
      "cell_type": "code",
      "metadata": {
        "id": "0rLaopkpmr5f",
        "colab_type": "code",
        "colab": {}
      },
      "source": [
        "#make a singal txt file that contains all speechs\n",
        "\n",
        "def make_data(files_name):\n",
        "  text = ''\n",
        "  \n",
        "  for fname in files_name:\n",
        "    path = os.path.join(data_dir, fname)\n",
        "    text += open(path, 'rb').read().decode('utf-8')\n",
        "  \n",
        "  with open('data.txt', 'w') as f:\n",
        "    f.write(text)\n",
        "    \n",
        "  return 1"
      ],
      "execution_count": 0,
      "outputs": []
    },
    {
      "cell_type": "code",
      "metadata": {
        "id": "ug2ddQjQmxtf",
        "colab_type": "code",
        "colab": {
          "base_uri": "https://localhost:8080/",
          "height": 34
        },
        "outputId": "77f47131-26ae-41c1-938b-f86acd15c4cc"
      },
      "source": [
        "make_data(files_name)"
      ],
      "execution_count": 31,
      "outputs": [
        {
          "output_type": "execute_result",
          "data": {
            "text/plain": [
              "1"
            ]
          },
          "metadata": {
            "tags": []
          },
          "execution_count": 31
        }
      ]
    },
    {
      "cell_type": "code",
      "metadata": {
        "id": "BlYDXnc8oFw3",
        "colab_type": "code",
        "colab": {}
      },
      "source": [
        "file_name = 'data.txt'"
      ],
      "execution_count": 0,
      "outputs": []
    },
    {
      "cell_type": "code",
      "metadata": {
        "id": "jdkbl7QtnzV7",
        "colab_type": "code",
        "colab": {
          "base_uri": "https://localhost:8080/",
          "height": 1000
        },
        "outputId": "4e61bb4b-0fe1-4531-9dd7-beba10a8a336"
      },
      "source": [
        "#Finetune gpt-2 with our text data\n",
        "\n",
        "sess = gpt2.start_tf_sess()\n",
        "\n",
        "gpt2.finetune(sess,\n",
        "              dataset=file_name,\n",
        "              model_name='124M',\n",
        "              steps=1000,\n",
        "              restore_from='fresh',\n",
        "              run_name='run1',\n",
        "              print_every=10,\n",
        "              sample_every=200,\n",
        "              save_every=500\n",
        "              )"
      ],
      "execution_count": 19,
      "outputs": [
        {
          "output_type": "stream",
          "text": [
            "WARNING:tensorflow:From /usr/local/lib/python3.6/dist-packages/gpt_2_simple/src/sample.py:17: where (from tensorflow.python.ops.array_ops) is deprecated and will be removed in a future version.\n",
            "Instructions for updating:\n",
            "Use tf.where in 2.0, which has the same broadcast rule as np.where\n",
            "Loading checkpoint models/124M/model.ckpt\n",
            "INFO:tensorflow:Restoring parameters from models/124M/model.ckpt\n"
          ],
          "name": "stdout"
        },
        {
          "output_type": "stream",
          "text": [
            "\r  0%|          | 0/1 [00:00<?, ?it/s]"
          ],
          "name": "stderr"
        },
        {
          "output_type": "stream",
          "text": [
            "Loading dataset...\n"
          ],
          "name": "stdout"
        },
        {
          "output_type": "stream",
          "text": [
            "100%|██████████| 1/1 [00:03<00:00,  3.99s/it]\n"
          ],
          "name": "stderr"
        },
        {
          "output_type": "stream",
          "text": [
            "dataset has 808426 tokens\n",
            "Training...\n",
            "[10 | 48.94] loss=3.71 avg=3.71\n",
            "[20 | 90.10] loss=3.29 avg=3.49\n",
            "[30 | 131.31] loss=3.20 avg=3.39\n",
            "[40 | 172.60] loss=3.18 avg=3.34\n",
            "[50 | 213.94] loss=3.06 avg=3.28\n",
            "[60 | 255.26] loss=2.93 avg=3.22\n",
            "[70 | 296.58] loss=2.81 avg=3.16\n",
            "[80 | 337.92] loss=2.97 avg=3.14\n",
            "[90 | 379.19] loss=2.73 avg=3.09\n",
            "[100 | 420.45] loss=2.89 avg=3.07\n",
            "[110 | 461.63] loss=2.68 avg=3.03\n",
            "[120 | 502.83] loss=2.63 avg=3.00\n",
            "[130 | 544.07] loss=2.67 avg=2.97\n",
            "[140 | 585.38] loss=2.77 avg=2.95\n",
            "[150 | 626.61] loss=2.65 avg=2.93\n",
            "[160 | 667.90] loss=2.56 avg=2.91\n",
            "[170 | 709.22] loss=2.40 avg=2.88\n",
            "[180 | 750.52] loss=2.64 avg=2.86\n",
            "[190 | 791.82] loss=2.52 avg=2.84\n",
            "[200 | 833.07] loss=2.22 avg=2.81\n",
            "======== SAMPLE 1 ========\n",
            " ni leur attachement au pacte à tous les plus grandes entreprises. C’est aucunement du dialogue de nos projets ?.\n",
            "C’est avec sagesse et de sorte d’implication de la coopération électorale, nous sommes avec le dialogue dans l’Administration de la paix, le Trône dans l’Etat moderne. Nous tans le cadre d'avant d’honorer les plans définitivement au niveau de la paix, à en matière d’application des principes de la coopération de la communauté nationale, au sein de la conférence nationale de la légalité internationale.\n",
            "Nous sommes, s’est en garde, toutes les acteurs du pays, et nous fédéraitons éviter la paix, du dialogue et des relations.\n",
            "Nous avons, à cet effet, à ce que soit par deux pays, dans le cadre de la coopération internationale, précédant d’un dialogue de Notre résident. Nous avons réunité aussi la mise en particulier de nos deux pays, nous attachons à assurer la coopération internationale et à faire preuve de sa dialogue. \n",
            "C’est dans ce tournant que l’accession du dialogue du Sahara ne devraient pas celle de nos pays soient entiement et ce qui se manifestent d’un dialogue pour qu’un dialogue de nos pays. \n",
            "A ce propos, Nous appelons à la création d’allés intérêts pour la participation de cette dialogue au premier intégrée nationale du peuple indéfectible. Nous nous attendons à toute démocratie que Nous sommes convaincu doit notre ambition dans la mise en place d’assurer la disposition du rôle qui se sont de plus grande intégrité à travers la coopération internationale. Nous Nous appelons à révent et à créer la coopération privée qui est la plus grande impotant de nouvelles engagements déployés et de développement avec la réussite de nos pays. \n",
            "Voilà pourquoi Nous rendons à quelques nous nous appartenances sur le discours du dialogue de nos pays, l’intégration que Nous avons, néanmoins, échanges et l’impératif de mettre au point des conflits. Cependant, nous nous devons également nombri, à cet égard, sur une meilleure coopération entre les plus humaines, la mise en place d’une coopération nationale n’achérer avec les citoyens, leur en particulier qui devraient d’élites en vue d’en vertu de la coopération internationale, et de la promotion du dialogue internationale.\n",
            "Ces points sont les citoyens de valeure que nous avons fier un rôle qui sont à un dialogue et de la stabilité, à se réalisant étrangère réglement. \n",
            "Wassalamou Alaouite,\n",
            "All rights reserved 2020 \n",
            "(BA 10/6)\n",
            " \n",
            "All rights reserved 2020 \n",
            "\"Louange à Roi Hassan II, Sa Majesté le Roi Mohammed V, que Dieu L’assiste :\n",
            "\"Louange à Roi Hassan II, et Le Président du Trône :\n",
            "\"Louange à Roi Hassan II.\n",
            "Votre sincère : Je souhaite de Dieu. Elle a été uni de Dieu que Dieu ait Son âme.\n",
            "Grâce le Royaume du Président du Trône.\n",
            "Elle a été uni de Dieu et vous à répondre aux niveaux économiques en toute culture du pays. Si Dieu appeles.\n",
            "Excellence, Monsieur le Président du Trône, que Dieu ait Son âme. Je Nous anime a été déjà qui se manifestent de cette voie.\n",
            "Il est égal\n",
            "\n",
            "[210 | 892.61] loss=2.35 avg=2.78\n",
            "[220 | 933.75] loss=2.36 avg=2.76\n",
            "[230 | 974.98] loss=2.20 avg=2.74\n",
            "[240 | 1016.32] loss=2.45 avg=2.72\n",
            "[250 | 1057.55] loss=2.40 avg=2.71\n",
            "[260 | 1098.85] loss=2.50 avg=2.70\n",
            "[270 | 1140.23] loss=2.26 avg=2.68\n",
            "[280 | 1181.55] loss=2.32 avg=2.67\n",
            "[290 | 1222.85] loss=2.39 avg=2.65\n",
            "[300 | 1264.08] loss=2.41 avg=2.64\n",
            "[310 | 1305.27] loss=2.53 avg=2.64\n",
            "[320 | 1346.46] loss=2.37 avg=2.63\n",
            "[330 | 1387.66] loss=2.30 avg=2.62\n",
            "[340 | 1428.97] loss=2.14 avg=2.60\n",
            "[350 | 1470.26] loss=2.20 avg=2.59\n",
            "[360 | 1511.56] loss=2.14 avg=2.57\n",
            "[370 | 1552.87] loss=2.16 avg=2.56\n",
            "[380 | 1594.19] loss=2.24 avg=2.55\n",
            "[390 | 1635.49] loss=2.09 avg=2.54\n",
            "[400 | 1676.70] loss=2.15 avg=2.52\n",
            "======== SAMPLE 1 ========\n",
            " islamique en soit un tournant visant à cette visite, et qui s'inscrit dans de vos travaux de bonne gouvernance.\n",
            "Aussi, et, en l'initiative des intéressus de la patrie, la mère d'être présence de leur patrie, et la réseau africaine avec la mise à niveau à son âme voisin et à sa voir séviture.\n",
            "En effet, le Trône, les Marocains, monsieux, les Marocains et les Marocains ont permis autant de s'atteler tous les Marocains de notre pays. Le monde est claire de s'appuyer et de s'y renforcer que sur la régionalisation avancée, notamment le prochain naturel entre les familles et les intéressus et les intérêts supérieurs de la nation.\n",
            "Il s'agit bénéficie d'une citoyenneté pleine à réunion à laquelle Nous devons appartient déployé à une nouvelle étape dans le cadre de régions décente en Afrique. En effet, Nous attendons leur action régional pour leur identité et pour leurs idées, en l'historique entre dans la première arabie, la légitimité et la légalité de notre Oumma. Nous célébrons aussi de créer des déficats du règlement décennal dans cette région du haèveux mondial touristique se l'instruments en la matière.\n",
            "Nous Nous efforçons définié de renouveler toutes les pays frères et échelles, à savoir, du concert et à soumettre un climat de rapprochement.\n",
            "En cette occasion, Nous avons tenu à exprimer Dieu l'initiative de paix, de ses projets et de ses régions avec les Nations Unies.\n",
            "L'ensemble des populations qui préoccupent nos relations ainsi que Nous conduisons, à travers cette défermment, de nouveaux initiatives de cette Oumma et de ses pénibles de la société que Nous considérons. Elle est nûte pour prendre le Maroc dans les civilisations et les libertés, pour l'entente de la glorieuse Révolution pour la Conférence des Oumma sincères.\n",
            "Pour de consolider, en effet, la concrétisation des intérêts pratiques et de l'institution nationale d'un Etat commun, Nous Nous considérons qu'est le Maroc d'une coopération avec toute la nouvelle Nation, dans le cadence du monde et de Notre Majesté. Il ne s'agit pas d'inapplicable davantage de répondre aux nouvelles questions humaines d'une coopération équitable, ayant la souverain utile et les handicapés. En effet, Nous appelons à la mise en place d'une réhabilitation de toutes les populations nécessaires pour les assister cette révolution, et ce, en dépit de la complémentarité sans faille, dans le cadence du monde.\n",
            "S'il est échue une réhabilitation de tous les forces vives du monde, pour tous Notre Majesté, comme partenariale. Elle a déployé d'impartialité sur les mènes et les pangs qui font le Maroc. Nous sommes fermement aujourd'hui à un contexte et un conflit authentique.\n",
            "A cet égard, Nous attendons de cette question commencent dans la région du savoir et de la stabilité étranger, dans le cadence de l'esprit du processus de réforme de l'investissement, ne peuvent être à une volonté globale pour faire preuve d'une réforme démocratique en eau de toute confiance\n",
            "\n",
            "[410 | 1734.24] loss=1.97 avg=2.51\n",
            "[420 | 1775.49] loss=1.98 avg=2.49\n",
            "[430 | 1816.83] loss=2.20 avg=2.48\n",
            "[440 | 1858.05] loss=2.03 avg=2.47\n",
            "[450 | 1899.38] loss=2.01 avg=2.46\n",
            "[460 | 1940.71] loss=1.86 avg=2.44\n",
            "[470 | 1981.95] loss=1.84 avg=2.43\n",
            "[480 | 2023.12] loss=1.99 avg=2.42\n",
            "[490 | 2064.32] loss=2.10 avg=2.41\n",
            "[500 | 2105.49] loss=1.95 avg=2.40\n",
            "Saving checkpoint/run1/model-500\n",
            "[510 | 2149.12] loss=1.97 avg=2.39\n",
            "[520 | 2190.32] loss=2.10 avg=2.38\n",
            "[530 | 2231.60] loss=1.67 avg=2.36\n",
            "[540 | 2272.87] loss=1.90 avg=2.35\n",
            "[550 | 2314.06] loss=2.13 avg=2.35\n",
            "[560 | 2355.25] loss=1.87 avg=2.33\n",
            "[570 | 2396.43] loss=1.90 avg=2.32\n",
            "[580 | 2437.72] loss=1.96 avg=2.32\n",
            "[590 | 2478.99] loss=1.90 avg=2.31\n",
            "[600 | 2520.14] loss=1.87 avg=2.30\n",
            "======== SAMPLE 1 ========\n",
            " nation devraient être aussi l’expression de voir près l’expression de l’admiration des civilisations, mais plutôt à la conviction que s’est représenté la liberté et le soutien des liens historiques qui ne soit plus aune.Cher peuple.La conviction que s’est par la libération sur le principe d’honorer les différentes aspects de notre pays, à travers toutes circonstances que sont réponsentants à assurer le sol de la solidarité nationale, une politique ouverte, fondée sur un processus dédié au niveau de l’éradication et le renforcement de la moralisation de l’harmonisation.N’ai aussi de conforter les dispositions de la situation actuelle, en faisant déjà des solutions sérieux que seule le trafic d’autonomie dont nous disposons pour une meilleure éloquence réciproque, en faisant prendre la création de nouvelles vécue centres contre la loi et les programmes nationales de l’éducation et la formation, avec une valeur qui porte toute réhabilitation de leurs valeurs et ce qui est écouler au service de l’éducation:.Ils avons-nous est la volonté et leur indifférencenement bien au fil de nos provinces sahariennes, le Royaume est un rôle plus durable. Au moment, nous considérons qu’ils soient en vue de défendre les prérogatives légales et les moyens nouveaux.De même, ce titre, nous avons chargé notre rôle à la nécessaire riche de confiance.C’est donc une fête qui doit être pour leur véritable revenu, à la volonté politique de s’engager dans le cadre de la détermination de nos provinces du Sud, surtout au Maroc, un nouveau sujet de la politique internationale sur la nécessité de pire, dans un climat de respectueux bien au coeur de notre cause nationale.Elle est également l’intérêt de la position qui lui incombe de progèrement l’engagement. Par un moment est, lorsqu’il étaient sa détermination, l’Afrique constitue un grand nombre de pays, et l’autre, c’est, par un pouvoir fort de l’ensemble du Sahara, réalisable dans les institutions de la Conférence internationale, à savoir, la dynamique démocratique, fondée sur une meilleure instance dans l’accomplisse entre eux, un grand nombre d’hiergative et de réalisme du Sahara de l’indicatération et de mécanismes de sécurité, de la préévenir mondiale avec plus ciment particulièrement avec l’Afrique.Cette dynamique a permis à la coexistence des populations de la région, et les nouveaux objectifs que Nous appelons de Nos voeux. Nous réaffirmons qu’en certains moyens de la participation en cette conjoncture fondée sur le plan Royal pour les adversaires du Moyen Orient.Cher peuple,Le Maroc, au Serviteur des deux Saintes Mosquées, est présider à la lutte diplomatie sur l’élargissement du Maroc du Mali, en Sa Sainte, qui a eu le rôle plus sincère. A cet égard, Nous tenons à rendre notre marche pour le règlement du discours des voies éstituaires du Royaume :.C’est pourquoi le Discours que Nous conduisons et l’attentisme ou un patriotisme en toutes circonstances à notre pays en Sa Sainte, répondant une action réciproque par les mécanismes et les engagements internationales.Nous nous\n",
            "\n",
            "[610 | 2577.78] loss=1.73 avg=2.28\n",
            "[620 | 2618.97] loss=1.94 avg=2.28\n",
            "[630 | 2660.22] loss=1.73 avg=2.27\n",
            "[640 | 2701.47] loss=1.98 avg=2.26\n",
            "[650 | 2742.65] loss=1.96 avg=2.25\n",
            "[660 | 2783.84] loss=1.87 avg=2.25\n",
            "[670 | 2825.07] loss=1.49 avg=2.23\n",
            "[680 | 2866.38] loss=1.97 avg=2.22\n",
            "[690 | 2907.61] loss=1.62 avg=2.21\n",
            "[700 | 2948.91] loss=1.72 avg=2.20\n",
            "[710 | 2990.23] loss=1.82 avg=2.20\n",
            "[720 | 3031.47] loss=1.77 avg=2.19\n",
            "[730 | 3072.76] loss=1.70 avg=2.18\n",
            "[740 | 3113.97] loss=1.80 avg=2.17\n",
            "[750 | 3155.13] loss=1.81 avg=2.16\n",
            "[760 | 3196.28] loss=1.66 avg=2.15\n",
            "[770 | 3237.50] loss=1.61 avg=2.14\n",
            "[780 | 3278.66] loss=1.36 avg=2.13\n",
            "[790 | 3319.85] loss=1.56 avg=2.12\n",
            "[800 | 3361.09] loss=1.94 avg=2.12\n",
            "======== SAMPLE 1 ========\n",
            "if lesquels y sont éménentisés.\n",
            "Certes, après leur témoignement et allet de Notre peuple fidèle, Nous avons décidé une démission de notre frère frère, Son Excellence le Président Jacques Chirac. Notre profonde concernant les questions de l'intérêt général, Nous avons lancé le devoir de la communauté internationale séculaire, avec des approches élites précises que nous avons réaffirmées et à venir.\n",
            "Nous sommes donc plus qu'il nous faut relever, tout au long de t'adresser, notre pays faut pour mettre tous les liens avec lesquels nous mettre à la nature au fil des peuples, avec tout abject que nous avons inscrits tous les Marocains.\n",
            "Mieux encore, nous ne nous faisons pas de nous choisissement de soutien. Il a, avec force que le dialogue nationales responsable reste tributaire de ces parties, en mesure d'une coopération fructueuse plus imposé par les partis politiques, les Régions et les Régionales, surtout au centre.\n",
            "A cet égard, Nous avons pris à consolider et arière l'évolution historique que Nous avons conscient de doter le Maroc de recherche du processus de dialogue nationale. Nous avons lancés, en Nos veulent expériences, des engagements nécessaires pour soutenir les partis politiques.\n",
            "En ces jeunes, le partenariat a connu une source de participation dans certains de pays, à travers les programmes de développement pour leurs objectifs, dans un esprit de solidarité.\n",
            "Pour conclure, il nous devra émotion à consolider toutes les initiatives constructives que recèlent les pays, dont nous nous félicitons notre pays, le bilan de cette question. Notre continent éprouvé est de nature à faire entendre la question du Sahara, une majorité devant les principes de coopération et de coopérationne. Ce sont ces initiatives dont le bilan, qui prévaut des plus indéfectibles, pour les pays sub-continentaux qui sont apparaissent des initiatives africaines et apprécients à l'esprit de pérennité, de complaisance et de justice.\n",
            "Nous saisissons cette occasion l'occasion de renouveau des liens indéfectibles de la personne du Maroc - avec, aussi bien pour son rô\u001cnette - et de renouveler, au mieux, les projets de coopération internationale. Pour engager le mondeure de nouvelles orientations et de leur solidarité sociale, ainsi qu'à un rô\u001cne décennal sur la mobilisation des ressources mondiaux. L'intérêt particulier que Nous aurons résolument pour ces actions et pour l'édification d'un processus d'intégration concernant le Royaume, s'est ainsi qu'à la recherche de programmes africaines, en accord avec les engagements internationaux - notamment des partis politiques, civilisations et linguistiques - sans placé autour de solution politique, en accord avec une coopération globale, au niveau international et au regard de nos préoccupations.\n",
            "Tout en mettant en oeuvre, le Maroc sera président du réseau de l'institution nationale n'adhére sa mission. A cet égard, nous nous sommes attaché à la mise en œuvre de la question dans son acception intégrée de l'Etat marocain moderne d'édite locale et de solidarité interne. C'est, en effet, mis l'historiaux que la question de colonialisme, la question du terrorisme, l'agression et la violence, n'a d'égal que nous réservons à notre identité\n",
            "\n",
            "[810 | 3418.94] loss=1.80 avg=2.11\n",
            "[820 | 3460.22] loss=1.73 avg=2.10\n",
            "[830 | 3501.40] loss=1.77 avg=2.10\n",
            "[840 | 3542.58] loss=1.56 avg=2.09\n",
            "[850 | 3583.79] loss=1.61 avg=2.08\n",
            "[860 | 3625.07] loss=1.76 avg=2.07\n",
            "[870 | 3666.26] loss=1.28 avg=2.06\n",
            "[880 | 3707.44] loss=1.66 avg=2.05\n",
            "[890 | 3748.70] loss=1.61 avg=2.05\n",
            "[900 | 3789.99] loss=1.23 avg=2.03\n",
            "[910 | 3831.26] loss=1.60 avg=2.03\n",
            "[920 | 3872.51] loss=1.72 avg=2.02\n",
            "[930 | 3913.71] loss=1.51 avg=2.01\n",
            "[940 | 3954.90] loss=1.72 avg=2.01\n",
            "[950 | 3996.09] loss=1.37 avg=2.00\n",
            "[960 | 4037.30] loss=1.49 avg=1.99\n",
            "[970 | 4078.47] loss=1.34 avg=1.98\n",
            "[980 | 4119.67] loss=1.63 avg=1.97\n",
            "[990 | 4160.89] loss=1.30 avg=1.96\n",
            "[1000 | 4202.06] loss=1.49 avg=1.95\n",
            "Saving checkpoint/run1/model-1000\n",
            "WARNING:tensorflow:From /tensorflow-1.15.2/python3.6/tensorflow_core/python/training/saver.py:963: remove_checkpoint (from tensorflow.python.training.checkpoint_management) is deprecated and will be removed in a future version.\n",
            "Instructions for updating:\n",
            "Use standard file APIs to delete files with this prefix.\n"
          ],
          "name": "stdout"
        }
      ]
    },
    {
      "cell_type": "code",
      "metadata": {
        "id": "bPRAmRN_oBQu",
        "colab_type": "code",
        "colab": {
          "base_uri": "https://localhost:8080/",
          "height": 122
        },
        "outputId": "7682e8e5-db6a-4464-ae7c-72038611d641"
      },
      "source": [
        "#Mount google drive in order to copy the model \n",
        "gpt2.mount_gdrive()"
      ],
      "execution_count": 20,
      "outputs": [
        {
          "output_type": "stream",
          "text": [
            "Go to this URL in a browser: https://accounts.google.com/o/oauth2/auth?client_id=947318989803-6bn6qk8qdgf4n4g3pfee6491hc0brc4i.apps.googleusercontent.com&redirect_uri=urn%3aietf%3awg%3aoauth%3a2.0%3aoob&response_type=code&scope=email%20https%3a%2f%2fwww.googleapis.com%2fauth%2fdocs.test%20https%3a%2f%2fwww.googleapis.com%2fauth%2fdrive%20https%3a%2f%2fwww.googleapis.com%2fauth%2fdrive.photos.readonly%20https%3a%2f%2fwww.googleapis.com%2fauth%2fpeopleapi.readonly\n",
            "\n",
            "Enter your authorization code:\n",
            "··········\n",
            "Mounted at /content/drive\n"
          ],
          "name": "stdout"
        }
      ]
    },
    {
      "cell_type": "code",
      "metadata": {
        "id": "ZzesOuBM4gm5",
        "colab_type": "code",
        "colab": {}
      },
      "source": [
        "#Copy our model (480MB) to google drive\n",
        "gpt2.copy_checkpoint_to_gdrive(run_name='run1')"
      ],
      "execution_count": 0,
      "outputs": []
    },
    {
      "cell_type": "code",
      "metadata": {
        "id": "mxFhYSA84rzo",
        "colab_type": "code",
        "colab": {
          "base_uri": "https://localhost:8080/",
          "height": 326
        },
        "outputId": "9b6636cd-c963-488e-bc9d-cdf697be180a"
      },
      "source": [
        "#Testing the model\n",
        "gpt2.generate(sess, run_name='run1')"
      ],
      "execution_count": 23,
      "outputs": [
        {
          "output_type": "stream",
          "text": [
            "Cette session électorale va visite que le session vit placer dans un esprit d'habitat insalubre et de promotion positifique, et électe qu'ils puissent vocation d'apporter mis au service des comptes.\n",
            "Excellences,\n",
            "Mesdames, Messieurs,\n",
            "L'état de la société et des relations historiques sont également liés à la place particulière que Nous sommes d'apprécier, dans la réalité, à l'appareil aboutat occasion, comme c'est la voie à laquelle nous allons prendre en charge la priorité.\n",
            "Mais la place qui nous prouve en date est par notre attachement à la nation, mais qui nous prévalons ensemble la mémoire et les valeurs et les diverses régions qui l'est plaigne dans la nation, mais celle-ci s'inscrivent, dans les diplômes, une stratégie lient énergique et moderne de la vie active.\n",
            "Pendant l'état de la société, et en parfaite élan de l'édifice démocratique, et des aspirations prêts à l'autre et à l'éthique, nous avons, à cette fin, en mettant cette ouverture, dans le cadre de la paix et de la sécurité internationales.\n",
            "A cet égard, Nous réaffirmons notre adhésion à la légalité internationale, dans le cadre de la légalité internationale et de la solidarité internationale.\n",
            "Nous saluons également l'attachement du Maroc à la promotion des relations internationales, de la condition de la femme, de l'image de l'unité de l'Etat et de la civilisation et de ses institutions, ainsi que le dépositaire du statut de la France et du Roi, pour qu'il dépassant à adopter à cette marche rapprochement et mise en œuvre du modèle de coopération internationale avec nos partenaires.\n",
            "Mesdames, Messieurs,\n",
            "Notre attachement à la quiétude de la réforme institutionnelle que nous a restons l'occasion d'établir et de jouer le rôle qui lui incombe, n'a d'égale que notre souhait de voir ces deux dernières années selon une vision prospective, où peut être au détriment des politiques mixtes et évolutifs.\n",
            "Il nous appartient de mettre en oeuvre la réforme globale de la justice sociale, en mettant en place une stratégie globale de l'action internationale.\n",
            "A cet effet, Nous tenons à ce que les projets d'activités internationales ainsi que les opérateurs économiques et culturels et les hommes en train de la réforme globale et des relations internationales.\n",
            "Il nous faut, à cet égard, veiller à ce que le Maroc a donner au service des relations économiques forts et militaires du Royaume avec ses partenaires et partenaires dans les domaines internationales.\n",
            "Nous sommes convaincu que l'édifice démocratique n'est pas seulement l'édification d'une société démocratique et solidaire, au moyen de partenariat entre les grandes orientations du Royaume et la culture et d'une confiance entre les hommes, les femmes, les hautes générations et les jeunes.\n",
            "Ces orientations ne peuvent que si le Royaume s'est pas l'un des mois bénières qui incombe aux efforts que déploie le meilleur histoire et le meilleur gouverneur de l'ONU.\n",
            "Ces orientations ne devrait pas être au moyen de partenariat entre les partenaires, le Maroc et la France.\n",
            "Toutefois, nombre de pays en cours est un message d'allé\n"
          ],
          "name": "stdout"
        }
      ]
    },
    {
      "cell_type": "code",
      "metadata": {
        "id": "U4S_SCmx5JqB",
        "colab_type": "code",
        "colab": {
          "base_uri": "https://localhost:8080/",
          "height": 190
        },
        "outputId": "b82bf221-4ff9-42da-f22a-88c60388d09d"
      },
      "source": [
        "#Generate speech with prefix 'SM le Roi'\n",
        "gpt2.generate(sess,\n",
        "              temperature=0.7,\n",
        "              prefix=\"SM le Roi\",\n",
        "              )"
      ],
      "execution_count": 24,
      "outputs": [
        {
          "output_type": "stream",
          "text": [
            "SM le Roi Mohammed VI, que Dieu L'assiste, a en le plaçant le devoir de veiller à la réforme de la Justice, à la concurrence judiciaires, à la participation au Conseil supérieur de la Jeunesse, au sujet de l'administration de la Justice. A cet égard, il réaffirme la nécessité de mettre sur le terrain uniquement l'importance des projets similaires de développement qu'ils représentent en matière de démocratie, et dans le cadre du Conseil supérieur des Oulémas et des Ministres, ainsi qu'à la prise de conscience collective, réaliste et décisif dans le cadre du Conseil supérieur de la Jeunesse.\n",
            "Ce projet de charte nationale de la justice au nombre d'ouverture économique et sociale consiste, à l'adoption d'une Charte nationale de la Justice, à la célébration de cette société démocratique et sociale d'autorité d'infrastructure, d'écoles de la haute épude et de disparition du pouvoir méditerranéen au sein de leurs institutions. \n",
            "Aujourd'hui, le nombre de ces deux épudes font la Justice se trouve économique et sociale dans le cadre d'une justice sociale globale et diversifiée. En outre, la justice devrait être en cours dans leurs deux époux au monde rural, tant pour le règlement de ce projet d'anniversaire de la Justice. \n",
            "Ces projets recouvrent avec évolence et optimisme pour l'ensemble de la Justice et les compétences régionaux de la famille, au service de l'équilibre sociale et de la communauté de ses composantes.\n",
            "A cet égard, les projets de développement que Nous avons eu à coeur de s'acquitté, a constitué d'égal que la justice et la cohésion. A cet égard, les projets de développement de nos Provinces du Sud et de leur permettre de s'acquitter de la communauté du règlement de ce projet. \n",
            "A cet égard, les projets de développement de la Justice et de la cohésion sont au coeur de Nos préoccupations de la justice, dont il s'opérer aussi l'initiative prometteur, à la réalisation des progrès régionaux, parlementaires et maghrébins, un mécanisme réussite de toutes pièces, économiques et sociaux, mais bien appelés à écarter les problèmes de cette cohésion sociale. \n",
            "Ce projet de réforme envisage que la réalisation de la Justice s'est engagée par le Conseil de la Justice, à l'instar de tous les filières de la nation et de tous les membres de la cohésion sociale. \n",
            "S'inscrivant, les progrès régionaux dans les horizons de l'édification de la Justice que Nous sommes particulièrement bénéficié dans leur compétitivité en matière d'interaction et d'interaction avec les Services de base qui, gré bien, est de nombreuses réalisations à Madrid, Madrid, Madrid, Madrid.\n",
            "Au cours de Notre accession au Trône, Nous avons donné Nos instructions à Notre gouvernement pour qu'elles contenues, Nous avons jugé nécessaire et conduit au gouvernement de Notre attachement à Son engagement en faveur de la Justice, à la continuité et au développement, Notre décision, instaurant une participation aussi positive à la Justice, afin de répondre aux attentes des problématiques de gestion de la chose publique, notamment les meilleurs ordinaire et gaz, notamment le sens de l'intér\n"
          ],
          "name": "stdout"
        }
      ]
    },
    {
      "cell_type": "code",
      "metadata": {
        "id": "8IY0fJE46Qpv",
        "colab_type": "code",
        "colab": {
          "base_uri": "https://localhost:8080/",
          "height": 258
        },
        "outputId": "01baa9de-138f-4838-c463-54d3cd00d613"
      },
      "source": [
        "gpt2.generate(sess,\n",
        "              temperature=0.7,\n",
        "              prefix=\"La marche verte\",\n",
        "              )"
      ],
      "execution_count": 26,
      "outputs": [
        {
          "output_type": "stream",
          "text": [
            "La marche verte, Nous avons donné Nos Hautes Directives pour gagner de leur chargée qu’il s’est assigné, leur foi pondérif que leur mission est une nécessité impérieuse.\n",
            "Nous sommes convaincu que leurs efforts ont démontré une forte impulsion, unanime et même qu’au contraignant de projets concrets. Il s’agit de dénonrer les savoir-faire des générations montantes et de revenir des exploits électorales, et de grands pauvres. Nous avons, à cet égard, édifice en tête de nos préoccupations, de nos programmes d’affaires, à en répondant favorable à la réussite des personnes politiques.\n",
            "Nous assurons, dans le même cadre, la réalisation d’un projet de société réaliste, réaliste ouvert aux hommes et aux femmes, réaliste ouvert aux défis qui se sont également délibérées, et au mépris de tout cas tous ses membres.\n",
            "Cher peuple,\n",
            "Nous sommes profondément rendre la construction de la marocanité de notre Sahara, dans le cadre de l’ONU, en témoignant avec les initiatives que Nous avons élaborées, à travers la mise en œuvre de ce projet, respectivement investi d’engagements contractant les partenariats et de coopération africaine.\n",
            "A cet égard, Nous procédons le gouvernement de Notre Majesté de cette marche la métionalisation, en mettant au centre de l’enseignement et de l’unité de notre Sahara.\n",
            "Il importe, en outre, d’améliorer les conditions de vie du Sahara au moyen de projets d’affaires régionales et continentales, d’engagements prévoie et détermination à s’inscrire dans le cadre des Nations Unies.\n",
            "D’autre part, le Maroc a réalisé pour apporter un saut qualitatif dans l’enseignement et la réexploration sociale.\n",
            "C’est un motif de satisfaction que le Maroc a toujours été à suivre la réalisation des Objectifs et des Représentants, dont la nécessité de préserver la solidité de la réalité et la cohésion ; elle a, en effet, également puisque cette réalisation fondée sur la réalisation de la Vision 2020, la réalisation des Planets, le dépassement des Objectifs et la mise en Âœuvre des mécanismes de mise en Âœuvre de la réalisation des Planets.\n",
            "A cet effet, Nous avons à cœur de s’acquis dans le désaccord et de revenus qui doivent être restées à gérer les défis et les dépassements que nous avons réalisés au Ministère des Habous et des Affaires Islamiques.\n",
            "Mes frères, les dirigeants et les révèles que nous avons réalisés, ayant célébré les différents partenaires, leur permettant de promouvoir leur identité et leur soutien sans discrimination a été également à l’Islam et à son ouverture sur la culture et la hauteur de tous.\n",
            "Il convient aussi de mettre en place les mécanismes de mise à niveau de nos institutions, notamment en Afrique, en Europe et en Amérique, et dans le domaine de la protection et de la dignité et en Italie, dans les domaines des Organisations de la société civile dans notre pays.\n",
            "A cet égard, Nous sommes attaché à la mémoire de l’Islam, pour se mettre au point l’attachement aux travaux du ministère des Habous et des Aff\n"
          ],
          "name": "stdout"
        }
      ]
    },
    {
      "cell_type": "code",
      "metadata": {
        "id": "BHPrJz8D7dW2",
        "colab_type": "code",
        "colab": {}
      },
      "source": [
        ""
      ],
      "execution_count": 0,
      "outputs": []
    }
  ]
}